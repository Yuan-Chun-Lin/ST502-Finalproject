{
 "cells": [
  {
   "cell_type": "code",
   "execution_count": null,
   "id": "abb31236",
   "metadata": {
    "scrolled": true
   },
   "outputs": [],
   "source": [
    "import numpy as np\n",
    "import pandas as pd\n",
    "import matplotlib.pyplot as plt\n",
    "from scipy.stats import bernoulli,norm,uniform,rankdata\n",
    "import tqdm\n",
    "import sys"
   ]
  },
  {
   "cell_type": "code",
   "execution_count": null,
   "id": "e94cfaa6",
   "metadata": {
    "scrolled": true
   },
   "outputs": [],
   "source": [
    "# CI function\n",
    "def CI(data,alpha):\n",
    "    sample_mean=np.mean(data) # data is a list!\n",
    "    sample_sigma=np.std(data)\n",
    "    critical_point = norm.ppf(1-alpha/2)\n",
    "    LB=sample_mean-critical_point*sample_sigma/np.sqrt(len(data))\n",
    "    UB=sample_mean+critical_point*sample_sigma/np.sqrt(len(data))\n",
    "    return round(LB,3),round(UB,3)"
   ]
  },
  {
   "cell_type": "code",
   "execution_count": null,
   "id": "3119e7f3",
   "metadata": {
    "scrolled": true
   },
   "outputs": [],
   "source": [
    "def tournament(simulation_times,contestants,sigma0_RMS,range_RMS):\n",
    "    N=simulation_times\n",
    "    MC=np.zeros(N)\n",
    "    NC=contestants # Number of contestants\n",
    "    Prob_list=np.arange(0.05,1,0.1)\n",
    "    for k in tqdm.tqdm(range(N)):\n",
    "        Q=np.zeros((10,10))\n",
    "        Ber=np.zeros((10,10))\n",
    "        sigma_RMS=np.zeros(NC)\n",
    "        score=np.zeros(NC)\n",
    "        determine_matrix=np.zeros((10,10))\n",
    "\n",
    "        for i in range(Q.shape[1]): # Create bernouli result matrix\n",
    "            p=Prob_list[i]\n",
    "            Q[:,i]=p\n",
    "            for j in range(Q.shape[0]):\n",
    "                Ber[j,i]=bernoulli.rvs(p, size=1) \n",
    "            ## We can't merge this loop into next one because everyone has the same Ber. result!\n",
    "\n",
    "        for i in range(NC): # for each contestant\n",
    "            sigma_RMS[i]=sigma0_RMS+range_RMS*i/NC\n",
    "            prediction=np.zeros((Q.shape[0],Q.shape[1]))\n",
    "            for a in range(Q.shape[0]): # Create indicator to determine plus or minus sigma\n",
    "                for b in range(Q.shape[1]):\n",
    "                    Z=np.random.normal(0,1)\n",
    "                    if Z>0:\n",
    "                        prediction[a,b] = Q[a,b]+sigma_RMS[i]\n",
    "                    else:\n",
    "                        prediction[a,b] = Q[a,b]-sigma_RMS[i]\n",
    "            score[i] = np.sum((Ber-prediction)**2)\n",
    "        MC[k]=np.where(score==np.min(score))[0][0]\n",
    "    print('\\n Average rank of the winner by Monte Carlo is: {}'.format(np.mean(MC)))\n",
    "    print('\\n The confidence interval is: {}'.format(CI(MC,0.05)))\n",
    "    return MC"
   ]
  },
  {
   "cell_type": "code",
   "execution_count": null,
   "id": "d8288fc5",
   "metadata": {
    "scrolled": true
   },
   "outputs": [],
   "source": [
    "def plotfig(MC,contestants,scenario_label,count):\n",
    "#     print('\\n The winner is Rank {} with the lowest score = {}'.format(np.where(score==np.min(score))[0][0],round(np.min(score),2)))\n",
    "#     plt.figure(figsize=(10,5))\n",
    "#     plt.plot(score,linewidth=2)\n",
    "#     plt.title('Score for each contestant',fontsize=13)\n",
    "#     plt.xlabel('Rank of each contestant',fontsize = 10)\n",
    "#     plt.ylabel('Score',fontsize = 10)\n",
    "#     plt.xticks(fontsize=10);\n",
    "#     plt.yticks(fontsize=10)\n",
    "#     plt.grid( which = 'major' )\n",
    "#     plt.grid( which = 'minor', linestyle = ':' )\n",
    "#     plt.savefig('Plot {}-{}.pdf'.format(scenario_label,count))\n",
    "    \n",
    "    plt.figure(figsize=(7,5))\n",
    "    plt.hist(MC,bins=30)\n",
    "    plt.title('Winner distribution',fontsize=13)\n",
    "    plt.xlabel('Rank of contestants',fontsize = 12)\n",
    "    plt.ylabel('Frequency',fontsize = 12)\n",
    "    plt.xticks(fontsize=12);\n",
    "    plt.yticks(fontsize=12)\n",
    "    plt.xlim(0,contestants)\n",
    "    plt.savefig('Hist {}-{}.pdf'.format(scenario_label,count))\n",
    "    plt.show()"
   ]
  },
  {
   "cell_type": "code",
   "execution_count": null,
   "id": "42c53453",
   "metadata": {
    "scrolled": false
   },
   "outputs": [],
   "source": [
    "'''\n",
    "Scenario1: contestants = [300,100,500]\n",
    "Scenario2: sigma0_RMS = [0,0.05,0.1] \n",
    "Scenario3: range_RMS = [0.3,0.1,0.5] \n",
    "Scenario4: probability\n",
    "'''\n",
    "contestants=[300,100,500]\n",
    "sigma0_RMS=[0,0.05,0.1]\n",
    "range_RMS=[0.3,0.1,0.5]\n",
    "\n",
    "simulation_times=100 ##"
   ]
  },
  {
   "cell_type": "code",
   "execution_count": null,
   "id": "dc829e59",
   "metadata": {
    "scrolled": true
   },
   "outputs": [],
   "source": [
    "'''\n",
    "Adjust Scenario 1, Control others\n",
    "'''\n",
    "count=1\n",
    "j,k=0,0\n",
    "sys.stdout = open(\"Details of scenario 1.txt\", \"w\")\n",
    "for i in range(3):\n",
    "    print('*************************************************************')\n",
    "    print('Scenario 1-{}: {} contestants, Sigma0 = {} with length {}'.format(count,contestants[i],sigma0_RMS[j],range_RMS[k]))\n",
    "    print('*************************************************************')\n",
    "    MC=tournament(simulation_times,contestants[i],sigma0_RMS[j],range_RMS[k])\n",
    "    plotfig(MC,contestants[i],1,count)\n",
    "    print('\\n')\n",
    "    count+=1"
   ]
  },
  {
   "cell_type": "code",
   "execution_count": null,
   "id": "4450f861",
   "metadata": {
    "scrolled": true
   },
   "outputs": [],
   "source": [
    "'''\n",
    "Adjust Scenario 2, Control others\n",
    "'''\n",
    "count=1\n",
    "i,k=0,0\n",
    "sys.stdout = open(\"Details of scenario 2.txt\", \"w\")\n",
    "for j in range(3):\n",
    "    print('*************************************************************')\n",
    "    print('Scenario 2-{}: {} contestants, Sigma0 = {} with length {}'.format(count,contestants[i],sigma0_RMS[j],range_RMS[k]))\n",
    "    print('*************************************************************')\n",
    "    MC=tournament(simulation_times,contestants[i],sigma0_RMS[j],range_RMS[k])\n",
    "    plotfig(MC,contestants[i],2,count)\n",
    "    print('\\n')\n",
    "    count+=1"
   ]
  },
  {
   "cell_type": "code",
   "execution_count": null,
   "id": "9c3ae1d7",
   "metadata": {
    "scrolled": false
   },
   "outputs": [],
   "source": [
    "'''\n",
    "Adjust Scenario 3, Control others\n",
    "'''\n",
    "count=1\n",
    "i,j=0,0\n",
    "sys.stdout = open(\"Details of scenario 3.txt\", \"w\")\n",
    "for k in range(3):\n",
    "    print('*************************************************************')\n",
    "    print('Scenario 3-{}: {} contestants, Sigma0 = {} with length {}'.format(count,contestants[i],sigma0_RMS[j],range_RMS[k]))\n",
    "    print('*************************************************************')\n",
    "    MC=tournament(simulation_times,contestants[i],sigma0_RMS[j],range_RMS[k])\n",
    "    plotfig(MC,contestants[i],3,count)\n",
    "    print('\\n')\n",
    "    count+=1"
   ]
  },
  {
   "cell_type": "code",
   "execution_count": null,
   "id": "7cd59c93",
   "metadata": {
    "scrolled": true
   },
   "outputs": [],
   "source": [
    "'''\n",
    "Adjust Scenario 4, Control others\n",
    "'''\n",
    "def tournament_prob(simulation_times,contestants,sigma0_RMS,range_RMS,prob_start,prob_end,prob_tick):\n",
    "    N=simulation_times\n",
    "    MC=np.zeros(N)\n",
    "    NC=contestants # Number of contestants\n",
    "    Prob_list=np.arange(prob_start,prob_end,prob_tick)\n",
    "    for k in range(N):\n",
    "        Q=np.zeros((10,len(Prob_list)))\n",
    "        Ber=np.zeros((10,len(Prob_list)))\n",
    "        sigma_RMS=np.zeros(NC)\n",
    "        score=np.zeros(NC)\n",
    "        determine_matrix=np.zeros((10,len(Prob_list)))\n",
    "\n",
    "        for i in range(Q.shape[1]): # Create bernouli result matrix\n",
    "            p=Prob_list[i]\n",
    "            Q[:,i]=p\n",
    "            for j in range(Q.shape[0]):\n",
    "                Ber[j,i]=bernoulli.rvs(p, size=1) \n",
    "            ## We can't merge this loop into next one because everyone has the same Ber. result!\n",
    "\n",
    "        for i in range(NC): # for each contestant\n",
    "            sigma_RMS[i]=sigma0_RMS+range_RMS*i/NC\n",
    "            prediction=np.zeros((Q.shape[0],Q.shape[1]))\n",
    "            for a in range(Q.shape[0]): # Create indicator to determine plus or minus sigma\n",
    "                for b in range(Q.shape[1]):\n",
    "                    Z=np.random.normal(0,1)\n",
    "                    if Z>0:\n",
    "                        prediction[a,b] = Q[a,b]+sigma_RMS[i]\n",
    "                    else:\n",
    "                        prediction[a,b] = Q[a,b]-sigma_RMS[i]\n",
    "            score[i] = np.sum((Ber-prediction)**2)\n",
    "        MC[k]=np.where(score==np.min(score))[0][0]\n",
    "    print('\\n Average rank of the winner by Monte Carlo is: {}'.format(np.mean(MC)))\n",
    "    print('\\n The confidence interval is: {}'.format(CI(MC,0.05)))\n",
    "    return MC"
   ]
  },
  {
   "cell_type": "code",
   "execution_count": null,
   "id": "64fc4886",
   "metadata": {
    "scrolled": false
   },
   "outputs": [],
   "source": [
    "prob_start=[0.05,0.01,0.05]\n",
    "prob_end=[1,1,1]\n",
    "prob_tick=[0.1,0.01,0.05]\n",
    "count=1\n",
    "i,j,k=0,0,0\n",
    "sys.stdout = open(\"Details of scenario 4.txt\", \"w\")\n",
    "for m in range(3):\n",
    "    print('*************************************************************')\n",
    "    print('Scenario 4-{}: Change probability distribution from {} to {} with {}'.format(count,prob_start[m],prob_end[m]-prob_tick[m],prob_tick[m]))\n",
    "    print('*************************************************************')\n",
    "    MC=tournament_prob(simulation_times,contestants[i],sigma0_RMS[j],range_RMS[k],prob_start[m],prob_end[m],prob_tick[m])\n",
    "    plotfig(MC,contestants[i],4,count)\n",
    "    print('\\n')\n",
    "    count+=1"
   ]
  },
  {
   "cell_type": "code",
   "execution_count": null,
   "id": "ece40d8c",
   "metadata": {
    "scrolled": true
   },
   "outputs": [],
   "source": []
  },
  {
   "cell_type": "code",
   "execution_count": null,
   "id": "1ad8fa2e",
   "metadata": {
    "scrolled": false
   },
   "outputs": [],
   "source": [
    "'''\n",
    "Create all scenarios\n",
    "\n",
    "count=1\n",
    "for i in range(3):\n",
    "    for j in range(3):\n",
    "        for k in range(3):\n",
    "            print('*************************************************************')\n",
    "            print('Scenario {}: {} contestants, Sigma0 = {} with length {}'.format(count,contestants[i],sigma0_RMS[j],range_RMS[k]))\n",
    "            print('*************************************************************')\n",
    "            MC,score=tournament(simulation_times,contestants[i],sigma0_RMS[j],range_RMS[k])\n",
    "            plotfig(score,count)\n",
    "            count+=1"
   ]
  }
 ],
 "metadata": {
  "kernelspec": {
   "display_name": "Python 3",
   "language": "python",
   "name": "python3"
  },
  "language_info": {
   "codemirror_mode": {
    "name": "ipython",
    "version": 3
   },
   "file_extension": ".py",
   "mimetype": "text/x-python",
   "name": "python",
   "nbconvert_exporter": "python",
   "pygments_lexer": "ipython3",
   "version": "3.8.8"
  }
 },
 "nbformat": 4,
 "nbformat_minor": 5
}
